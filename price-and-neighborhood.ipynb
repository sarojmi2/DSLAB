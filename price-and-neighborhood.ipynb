{
 "cells": [
  {
   "cell_type": "markdown",
   "id": "c7e815c4",
   "metadata": {},
   "source": [
    "## Predicting Price with Neighborhood\n"
   ]
  },
  {
   "cell_type": "code",
   "execution_count": 15,
   "id": "43d16804",
   "metadata": {},
   "outputs": [],
   "source": [
    "import warnings\n",
    "from glob import glob\n",
    "\n",
    "import matplotlib.pyplot as plt\n",
    "import numpy as np\n",
    "import pandas as pd\n",
    "from category_encoders import OneHotEncoder\n",
    "from IPython.display import VimeoVideo\n",
    "from sklearn.linear_model import LinearRegression, Ridge  # noqa F401\n",
    "from sklearn.metrics import mean_absolute_error\n",
    "from sklearn.pipeline import make_pipeline\n",
    "from sklearn.utils.validation import check_is_fitted\n",
    "\n",
    "warnings.simplefilter(action=\"ignore\", category=FutureWarning)\n"
   ]
  },
  {
   "cell_type": "markdown",
   "id": "a5cd9c24",
   "metadata": {},
   "source": [
    "# IMPORT\n"
   ]
  },
  {
   "cell_type": "code",
   "execution_count": 16,
   "id": "9d433872",
   "metadata": {},
   "outputs": [],
   "source": [
    "def wrangle(filepath):\n",
    "    # Read CSV file\n",
    "    df = pd.read_csv(filepath)\n",
    "\n",
    "    # Subset data: Apartments in \"Capital Federal\", less than 400,000\n",
    "    mask_ba = df[\"place_with_parent_names\"].str.contains(\"Capital Federal\")\n",
    "    mask_apt = df[\"property_type\"] == \"apartment\"\n",
    "    mask_price = df[\"price_aprox_usd\"] < 400_000\n",
    "    df = df[mask_ba & mask_apt & mask_price]\n",
    "\n",
    "    # Subset data: Remove outliers for \"surface_covered_in_m2\"\n",
    "    low, high = df[\"surface_covered_in_m2\"].quantile([0.1, 0.9])\n",
    "    mask_area = df[\"surface_covered_in_m2\"].between(low, high)\n",
    "    df = df[mask_area]\n",
    "\n",
    "    # Split \"lat-lon\" column\n",
    "    df[[\"lat\", \"lon\"]] = df[\"lat-lon\"].str.split(\",\", expand=True).astype(float)\n",
    "    df.drop(columns=\"lat-lon\", inplace=True)\n",
    "\n",
    "    df[\"neighborhood\"] = df[\"place_with_parent_names\"].str.split(\"|\").str[3]\n",
    "    df.drop(columns=\"place_with_parent_names\", inplace=True)\n",
    "\n",
    "    return df\n",
    "    "
   ]
  },
  {
   "cell_type": "markdown",
   "id": "56b59420",
   "metadata": {},
   "source": [
    "# uze of glob - pattern to include "
   ]
  },
  {
   "cell_type": "code",
   "execution_count": 17,
   "id": "9d606e8c",
   "metadata": {},
   "outputs": [],
   "source": [
    "files = glob(\"data/buenos-aires-real-estate-*.csv\") \n",
    "files\n",
    "\n",
    "frames = []\n",
    "for file in files:\n",
    "    df= wrangle(file)\n",
    "    frames.append(df)\n"
   ]
  },
  {
   "cell_type": "markdown",
   "id": "bb7b8c10",
   "metadata": {},
   "source": [
    "# concate the frames"
   ]
  },
  {
   "cell_type": "code",
   "execution_count": 18,
   "id": "cdfdcadb",
   "metadata": {},
   "outputs": [
    {
     "data": {
      "text/html": [
       "<div>\n",
       "<style scoped>\n",
       "    .dataframe tbody tr th:only-of-type {\n",
       "        vertical-align: middle;\n",
       "    }\n",
       "\n",
       "    .dataframe tbody tr th {\n",
       "        vertical-align: top;\n",
       "    }\n",
       "\n",
       "    .dataframe thead th {\n",
       "        text-align: right;\n",
       "    }\n",
       "</style>\n",
       "<table border=\"1\" class=\"dataframe\">\n",
       "  <thead>\n",
       "    <tr style=\"text-align: right;\">\n",
       "      <th></th>\n",
       "      <th>operation</th>\n",
       "      <th>property_type</th>\n",
       "      <th>price</th>\n",
       "      <th>currency</th>\n",
       "      <th>price_aprox_local_currency</th>\n",
       "      <th>price_aprox_usd</th>\n",
       "      <th>surface_total_in_m2</th>\n",
       "      <th>surface_covered_in_m2</th>\n",
       "      <th>price_usd_per_m2</th>\n",
       "      <th>price_per_m2</th>\n",
       "      <th>floor</th>\n",
       "      <th>rooms</th>\n",
       "      <th>expenses</th>\n",
       "      <th>properati_url</th>\n",
       "      <th>lat</th>\n",
       "      <th>lon</th>\n",
       "      <th>neighborhood</th>\n",
       "    </tr>\n",
       "  </thead>\n",
       "  <tbody>\n",
       "    <tr>\n",
       "      <th>0</th>\n",
       "      <td>sell</td>\n",
       "      <td>apartment</td>\n",
       "      <td>120000.0</td>\n",
       "      <td>USD</td>\n",
       "      <td>1819488.00</td>\n",
       "      <td>120000.0</td>\n",
       "      <td>NaN</td>\n",
       "      <td>55.0</td>\n",
       "      <td>NaN</td>\n",
       "      <td>2181.818182</td>\n",
       "      <td>NaN</td>\n",
       "      <td>2.0</td>\n",
       "      <td>NaN</td>\n",
       "      <td>http://villa-general-mitre.properati.com.ar/xx...</td>\n",
       "      <td>-34.616004</td>\n",
       "      <td>-58.470506</td>\n",
       "      <td>Villa General Mitre</td>\n",
       "    </tr>\n",
       "    <tr>\n",
       "      <th>1</th>\n",
       "      <td>sell</td>\n",
       "      <td>apartment</td>\n",
       "      <td>89000.0</td>\n",
       "      <td>USD</td>\n",
       "      <td>1349453.60</td>\n",
       "      <td>89000.0</td>\n",
       "      <td>NaN</td>\n",
       "      <td>37.0</td>\n",
       "      <td>NaN</td>\n",
       "      <td>2405.405405</td>\n",
       "      <td>7.0</td>\n",
       "      <td>2.0</td>\n",
       "      <td>NaN</td>\n",
       "      <td>http://palermo.properati.com.ar/ya5i_venta_dep...</td>\n",
       "      <td>-34.584712</td>\n",
       "      <td>-58.444927</td>\n",
       "      <td>Palermo</td>\n",
       "    </tr>\n",
       "    <tr>\n",
       "      <th>2</th>\n",
       "      <td>sell</td>\n",
       "      <td>apartment</td>\n",
       "      <td>183495.0</td>\n",
       "      <td>USD</td>\n",
       "      <td>2782224.58</td>\n",
       "      <td>183495.0</td>\n",
       "      <td>92.0</td>\n",
       "      <td>57.0</td>\n",
       "      <td>1994.51087</td>\n",
       "      <td>3219.210526</td>\n",
       "      <td>NaN</td>\n",
       "      <td>2.0</td>\n",
       "      <td>NaN</td>\n",
       "      <td>http://saavedra.properati.com.ar/12izq_venta_d...</td>\n",
       "      <td>-34.554652</td>\n",
       "      <td>-58.493644</td>\n",
       "      <td>Saavedra</td>\n",
       "    </tr>\n",
       "    <tr>\n",
       "      <th>3</th>\n",
       "      <td>sell</td>\n",
       "      <td>apartment</td>\n",
       "      <td>95000.0</td>\n",
       "      <td>USD</td>\n",
       "      <td>1440428.00</td>\n",
       "      <td>95000.0</td>\n",
       "      <td>53.0</td>\n",
       "      <td>47.0</td>\n",
       "      <td>1792.45283</td>\n",
       "      <td>2021.276596</td>\n",
       "      <td>NaN</td>\n",
       "      <td>2.0</td>\n",
       "      <td>NaN</td>\n",
       "      <td>http://villa-del-parque.properati.com.ar/wy0n_...</td>\n",
       "      <td>-34.610581</td>\n",
       "      <td>-58.479625</td>\n",
       "      <td>Villa del Parque</td>\n",
       "    </tr>\n",
       "    <tr>\n",
       "      <th>4</th>\n",
       "      <td>sell</td>\n",
       "      <td>apartment</td>\n",
       "      <td>95000.0</td>\n",
       "      <td>USD</td>\n",
       "      <td>1440428.00</td>\n",
       "      <td>95000.0</td>\n",
       "      <td>0.0</td>\n",
       "      <td>35.0</td>\n",
       "      <td>NaN</td>\n",
       "      <td>2714.285714</td>\n",
       "      <td>NaN</td>\n",
       "      <td>1.0</td>\n",
       "      <td>NaN</td>\n",
       "      <td>http://belgrano.properati.com.ar/xw9a_venta_de...</td>\n",
       "      <td>-34.558227</td>\n",
       "      <td>-58.458357</td>\n",
       "      <td>Belgrano</td>\n",
       "    </tr>\n",
       "  </tbody>\n",
       "</table>\n",
       "</div>"
      ],
      "text/plain": [
       "  operation property_type     price currency  price_aprox_local_currency  \\\n",
       "0      sell     apartment  120000.0      USD                  1819488.00   \n",
       "1      sell     apartment   89000.0      USD                  1349453.60   \n",
       "2      sell     apartment  183495.0      USD                  2782224.58   \n",
       "3      sell     apartment   95000.0      USD                  1440428.00   \n",
       "4      sell     apartment   95000.0      USD                  1440428.00   \n",
       "\n",
       "   price_aprox_usd  surface_total_in_m2  surface_covered_in_m2  \\\n",
       "0         120000.0                  NaN                   55.0   \n",
       "1          89000.0                  NaN                   37.0   \n",
       "2         183495.0                 92.0                   57.0   \n",
       "3          95000.0                 53.0                   47.0   \n",
       "4          95000.0                  0.0                   35.0   \n",
       "\n",
       "   price_usd_per_m2  price_per_m2  floor  rooms  expenses  \\\n",
       "0               NaN   2181.818182    NaN    2.0       NaN   \n",
       "1               NaN   2405.405405    7.0    2.0       NaN   \n",
       "2        1994.51087   3219.210526    NaN    2.0       NaN   \n",
       "3        1792.45283   2021.276596    NaN    2.0       NaN   \n",
       "4               NaN   2714.285714    NaN    1.0       NaN   \n",
       "\n",
       "                                       properati_url        lat        lon  \\\n",
       "0  http://villa-general-mitre.properati.com.ar/xx... -34.616004 -58.470506   \n",
       "1  http://palermo.properati.com.ar/ya5i_venta_dep... -34.584712 -58.444927   \n",
       "2  http://saavedra.properati.com.ar/12izq_venta_d... -34.554652 -58.493644   \n",
       "3  http://villa-del-parque.properati.com.ar/wy0n_... -34.610581 -58.479625   \n",
       "4  http://belgrano.properati.com.ar/xw9a_venta_de... -34.558227 -58.458357   \n",
       "\n",
       "          neighborhood  \n",
       "0  Villa General Mitre  \n",
       "1              Palermo  \n",
       "2             Saavedra  \n",
       "3     Villa del Parque  \n",
       "4             Belgrano  "
      ]
     },
     "execution_count": 18,
     "metadata": {},
     "output_type": "execute_result"
    }
   ],
   "source": [
    "df = pd.concat(frames, ignore_index=True)   \n",
    "df.head()"
   ]
  },
  {
   "cell_type": "markdown",
   "id": "326f0f0e",
   "metadata": {},
   "source": [
    "# Explore the df"
   ]
  },
  {
   "cell_type": "code",
   "execution_count": 19,
   "id": "d6d0b45a",
   "metadata": {},
   "outputs": [
    {
     "data": {
      "text/plain": [
       "(6582, 17)"
      ]
     },
     "execution_count": 19,
     "metadata": {},
     "output_type": "execute_result"
    }
   ],
   "source": [
    "df.shape"
   ]
  },
  {
   "cell_type": "markdown",
   "id": "26c1b821",
   "metadata": {},
   "source": [
    "# Create your feature matrix X_train and target vector y_train. X_train should contain one feature: \"neighborhood\". Your target is \"price_aprox_usd\".\n",
    "\n"
   ]
  },
  {
   "cell_type": "code",
   "execution_count": 20,
   "id": "3e39e977",
   "metadata": {},
   "outputs": [],
   "source": [
    "target = \"price_aprox_usd\"\n",
    "features = [\"neighborhood\"]\n",
    "y_train = df[target]\n",
    "X_train = df[features]"
   ]
  },
  {
   "cell_type": "markdown",
   "id": "f476f322",
   "metadata": {},
   "source": [
    "## Build Model - baseline"
   ]
  },
  {
   "cell_type": "code",
   "execution_count": null,
   "id": "bd5c7472",
   "metadata": {},
   "outputs": [],
   "source": [
    "y_mean = y_train.mean()\n",
    "y_pred_baseline = [y_mean] * len(df)\n",
    "print(\"Mean apt price \" ,y_mean)\n",
    "print(\"Baseline price \" ,mean_absolute_error(y_train, y_pred_baseline))"
   ]
  },
  {
   "cell_type": "markdown",
   "id": "17b97d89",
   "metadata": {},
   "source": [
    "## ITerate First, instantiate a OneHotEncoder named ohe. Make sure to set the use_cat_names argument to True. Next, fit your transformer to the feature matrix X_train. Finally, use your encoder to transform the feature matrix X_train, and assign the transformed data to the variable XT_train.\n",
    "\n",
    "use Linerar regression , get error as nebighnourhood is string but we need float as math exp need numeric "
   ]
  },
  {
   "cell_type": "code",
   "execution_count": null,
   "id": "b23e46dd",
   "metadata": {},
   "outputs": [],
   "source": [
    "ohe = OneHotEncoder(use_cat_names=True)\n",
    "ohe.fit(X_train)\n",
    "XT_train = ohe.transform(X_train)\n",
    "XT_train.head()"
   ]
  },
  {
   "cell_type": "code",
   "execution_count": null,
   "id": "fa6bc3e7",
   "metadata": {},
   "outputs": [],
   "source": [
    "model = make_pipeline(\n",
    "    OneHotEncoder(use_cat_names=True),\n",
    "      LinearRegression()\n",
    "      )\n",
    "model.fit(X_train, y_train)\n",
    "\n",
    "y_pred = model.predict(X_train)\n",
    "\n",
    "print(\"Mean apt price \" ,y_mean)\n",
    "print(\"Baseline price \" ,mean_absolute_error(y_train, y_pred_baseline))\n"
   ]
  },
  {
   "cell_type": "code",
   "execution_count": null,
   "id": "9900b13c",
   "metadata": {},
   "outputs": [],
   "source": [
    "y_pred_training = model.predict(X_train)\n",
    "mae_training = mean_absolute_error(y_train, y_pred_training)\n",
    "print(\"Mean apt price \" ,y_mean)\n",
    "print(\"Baseline price \" ,mean_absolute_error(y_train, y_pred_baseline))\n",
    "print(\"Training MAE \" ,mae_training)\n"
   ]
  },
  {
   "cell_type": "code",
   "execution_count": 26,
   "id": "b7a900ac",
   "metadata": {},
   "outputs": [
    {
     "data": {
      "text/plain": [
       "0    249409.478261\n",
       "1    161530.079797\n",
       "2     98036.930192\n",
       "3    110675.394444\n",
       "4    127796.268745\n",
       "dtype: float64"
      ]
     },
     "execution_count": 26,
     "metadata": {},
     "output_type": "execute_result"
    }
   ],
   "source": [
    "X_test = pd.read_csv(\"data/buenos-aires-test-features.csv\")[features]\n",
    "y_pred_test = pd.Series(model.predict(X_test))\n",
    "y_pred_test.head()"
   ]
  },
  {
   "cell_type": "code",
   "execution_count": 27,
   "id": "8e447ce8",
   "metadata": {},
   "outputs": [
    {
     "name": "stdout",
     "output_type": "stream",
     "text": [
      "coefficients len: 57\n",
      "[  9152.9828972   47056.21913214  15837.7992972  -11670.09791089\n",
      "  48091.90019792]\n"
     ]
    }
   ],
   "source": [
    "intercept = model.named_steps[\"linearregression\"].intercept_\n",
    "coefficients = model.named_steps[\"linearregression\"].coef_\n",
    "print(\"coefficients len:\", len(coefficients))\n",
    "print(coefficients[:5])  # First five coefficients\n",
    "\n",
    "## Task 2.3.11: Create a pandas Series named y_pred_test that contains the predicted values for the test data."
   ]
  },
  {
   "cell_type": "code",
   "execution_count": 28,
   "id": "48a6e3a5",
   "metadata": {},
   "outputs": [
    {
     "name": "stdout",
     "output_type": "stream",
     "text": [
      "features len: 57\n",
      "['neighborhood_Villa General Mitre' 'neighborhood_Palermo'\n",
      " 'neighborhood_Saavedra' 'neighborhood_Villa del Parque'\n",
      " 'neighborhood_Belgrano']\n"
     ]
    }
   ],
   "source": [
    "feature_names = model.named_steps[\"onehotencoder\"].get_feature_names_out()\n",
    "print(\"features len:\", len(feature_names))\n",
    "print(feature_names[:5])  # First five feature names\n",
    "\n",
    "## Task 2.3.12: Create a pandas Series named y_pred_test that contains the predicted values for the test data."
   ]
  },
  {
   "cell_type": "code",
   "execution_count": 29,
   "id": "1ff101b5",
   "metadata": {},
   "outputs": [
    {
     "data": {
      "text/plain": [
       "neighborhood_Villa Soldati   -73008.387103\n",
       "neighborhood_Pompeya         -51638.879103\n",
       "neighborhood_Villa Lugano    -49137.642103\n",
       "neighborhood_Catalinas       -42972.017103\n",
       "neighborhood_Constitución    -41623.852436\n",
       "dtype: float64"
      ]
     },
     "execution_count": 29,
     "metadata": {},
     "output_type": "execute_result"
    }
   ],
   "source": [
    "feat_imp = pd.Series(model.named_steps[\"linearregression\"].coef_, index=feature_names).sort_values()\n",
    "feat_imp.head()"
   ]
  },
  {
   "cell_type": "code",
   "execution_count": null,
   "id": "59c9551d",
   "metadata": {},
   "outputs": [],
   "source": [
    "print(f\"price = {intercept.round(2)}\")\n",
    "for f, c in feat_imp.items():\n",
    "    print(f\"+ ({round(c, 2)} * {f})\")"
   ]
  }
 ],
 "metadata": {
  "kernelspec": {
   "display_name": "base",
   "language": "python",
   "name": "python3"
  },
  "language_info": {
   "codemirror_mode": {
    "name": "ipython",
    "version": 3
   },
   "file_extension": ".py",
   "mimetype": "text/x-python",
   "name": "python",
   "nbconvert_exporter": "python",
   "pygments_lexer": "ipython3",
   "version": "3.12.7"
  }
 },
 "nbformat": 4,
 "nbformat_minor": 5
}
