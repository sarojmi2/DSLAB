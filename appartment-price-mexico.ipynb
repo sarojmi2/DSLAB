{
 "cells": [
  {
   "cell_type": "code",
   "execution_count": 3,
   "id": "b95e9b93",
   "metadata": {},
   "outputs": [],
   "source": [
    "import pandas as pd\n",
    "import numpy as np\n",
    "\n",
    "def wrangle(filename):\n",
    "    \"\"\"\n",
    "    Wrangle function that takes the name of a CSV file as input and returns a DataFrame.\n",
    "    \n",
    "    Parameters:\n",
    "    filename (str): Path to the CSV file\n",
    "    \n",
    "    Returns:\n",
    "    pandas.DataFrame: Cleaned and processed DataFrame\n",
    "    \"\"\"\n",
    "    \n",
    "    # Read the CSV file\n",
    "    df = pd.read_csv(filename)\n",
    "    \n",
    "    # 1. Subset data: Only apartments in Mexico City (\"Distrito Federal\") under $100,000\n",
    "    df = df[\n",
    "        (df['property_type'] == 'apartment') & \n",
    "        (df['place_with_parent_names'].str.contains('|Distrito Federal|', na=False)) &\n",
    "        (df['price_aprox_usd'] < 100000)\n",
    "    ].copy()\n",
    "    \n",
    "    # 2. Remove outliers: Trim bottom and top 10% by surface_covered_in_m2\n",
    "    # Remove rows where surface_covered_in_m2 is null first\n",
    "    df = df.dropna(subset=['surface_covered_in_m2'])\n",
    "    \n",
    "    # Calculate 10th and 90th percentiles\n",
    "    q10 = df['surface_covered_in_m2'].quantile(0.1)\n",
    "    q90 = df['surface_covered_in_m2'].quantile(0.9)\n",
    "    \n",
    "    # Filter to keep only rows between 10th and 90th percentiles\n",
    "    df = df[(df['surface_covered_in_m2'] >= q10) & (df['surface_covered_in_m2'] <= q90)]\n",
    "    \n",
    "    # 3. Create separate \"lat\" and \"lon\" columns\n",
    "    # Extract coordinates from lat-lon column\n",
    "    def extract_coordinates(lat_lon_str):\n",
    "        if pd.isna(lat_lon_str) or lat_lon_str == '':\n",
    "            return pd.Series([np.nan, np.nan])\n",
    "        try:\n",
    "            # Remove quotes and split by comma\n",
    "            coords = str(lat_lon_str).strip('\"').split(',')\n",
    "            if len(coords) == 2:\n",
    "                lat = float(coords[0])\n",
    "                lon = float(coords[1])\n",
    "                return pd.Series([lat, lon])\n",
    "            else:\n",
    "                return pd.Series([np.nan, np.nan])\n",
    "        except:\n",
    "            return pd.Series([np.nan, np.nan])\n",
    "    \n",
    "    df[['lat', 'lon']] = df['lat-lon'].apply(extract_coordinates)\n",
    "    \n",
    "    # 4. Create \"borough\" feature from \"place_with_parent_names\" column\n",
    "    def extract_borough(place_str):\n",
    "        if pd.isna(place_str):\n",
    "            return np.nan\n",
    "        try:\n",
    "            # Split by '|' and get the first non-empty part (borough)\n",
    "            parts = str(place_str).split('|')\n",
    "            for part in parts:\n",
    "                if part.strip() and part.strip() != '':\n",
    "                    return part.strip()\n",
    "            return np.nan\n",
    "        except:\n",
    "            return np.nan\n",
    "    \n",
    "    df['borough'] = df['place_with_parent_names'].apply(extract_borough)\n",
    "    \n",
    "    # 5. Drop columns that are more than 50% null values\n",
    "    null_percentage = df.isnull().sum() / len(df)\n",
    "    cols_to_keep = null_percentage[null_percentage <= 0.5].index.tolist()\n",
    "    df = df[cols_to_keep]\n",
    "    \n",
    "    # 6. Drop columns containing low- or high-cardinality categorical values\n",
    "    categorical_cols = df.select_dtypes(include=['object']).columns\n",
    "    \n",
    "    cols_to_drop_cardinality = []\n",
    "    for col in categorical_cols:\n",
    "        unique_count = df[col].nunique()\n",
    "        total_count = len(df)\n",
    "        \n",
    "        # Drop if very low cardinality (< 2 unique values) or very high cardinality (> 50% unique)\n",
    "        if unique_count < 2 or (unique_count / total_count) > 0.5:\n",
    "            cols_to_drop_cardinality.append(col)\n",
    "    \n",
    "    df = df.drop(columns=cols_to_drop_cardinality, errors='ignore')\n",
    "    \n",
    "    # 7. Drop columns that would constitute leakage for target \"price_aprox_usd\"\n",
    "    leakage_cols = [\n",
    "        'price',  # Original price in local currency\n",
    "        'price_aprox_local_currency',  # Price in local currency\n",
    "        'price_usd_per_m2',  # Price per m2 in USD (derived from target)\n",
    "        'price_per_m2',  # Price per m2 in local currency (derived from target)\n",
    "    ]\n",
    "    \n",
    "    df = df.drop(columns=[col for col in leakage_cols if col in df.columns], errors='ignore')\n",
    "    \n",
    "    # 8. Drop columns that would create multicollinearity issues\n",
    "    multicollinear_cols = [\n",
    "        'surface_total_in_m2',  # Highly correlated with surface_covered_in_m2\n",
    "        'lat-lon',  # Redundant now that we have lat and lon separately\n",
    "        'place_with_parent_names',  # Redundant now that we have borough\n",
    "        'properati_url',  # Not useful for modeling\n",
    "        'currency',  # Should be consistent after filtering, and not useful for modeling\n",
    "        'operation',  # Should be consistent (all 'sell') after filtering\n",
    "    ]\n",
    "    \n",
    "    df = df.drop(columns=[col for col in multicollinear_cols if col in df.columns], errors='ignore')\n",
    "    \n",
    "    # Reset index\n",
    "    df = df.reset_index(drop=True)\n",
    "    \n",
    "    return df\n"
   ]
  },
  {
   "cell_type": "code",
   "execution_count": 4,
   "id": "f80cccef",
   "metadata": {},
   "outputs": [
    {
     "name": "stdout",
     "output_type": "stream",
     "text": [
      "Shape of processed data: (1132, 6)\n",
      "\n",
      "Columns in processed data:\n",
      "['Unnamed: 0', 'price_aprox_usd', 'surface_covered_in_m2', 'lat', 'lon', 'borough']\n",
      "\n",
      "First few rows:\n",
      "   Unnamed: 0  price_aprox_usd  surface_covered_in_m2        lat         lon  \\\n",
      "0          12         94022.66                   57.0  23.634501 -102.552788   \n",
      "1          21         70880.12                   56.0  19.402413  -99.095391   \n",
      "2          22         68228.99                   80.0  19.357820  -99.149406   \n",
      "3          23         24235.78                   60.0  19.504985  -99.208557   \n",
      "4          27         94140.20                   50.0  19.354219  -99.126244   \n",
      "\n",
      "         borough  \n",
      "0  Benito Juárez  \n",
      "1      Iztacalco  \n",
      "2  Benito Juárez  \n",
      "3   Azcapotzalco  \n",
      "4       Coyoacán  \n",
      "\n",
      "Data types:\n",
      "Unnamed: 0                 int64\n",
      "price_aprox_usd          float64\n",
      "surface_covered_in_m2    float64\n",
      "lat                      float64\n",
      "lon                      float64\n",
      "borough                   object\n",
      "dtype: object\n",
      "\n",
      "Null values per column:\n",
      "Unnamed: 0                0\n",
      "price_aprox_usd           0\n",
      "surface_covered_in_m2     0\n",
      "lat                      63\n",
      "lon                      63\n",
      "borough                   0\n",
      "dtype: int64\n",
      "\n",
      "Unique values in borough column:\n",
      "borough\n",
      "Benito Juárez          215\n",
      "Cuauhtémoc             147\n",
      "Álvaro Obregón         110\n",
      "Miguel Hidalgo          97\n",
      "Iztapalapa              96\n",
      "Azcapotzalco            92\n",
      "Gustavo A. Madero       79\n",
      "Coyoacán                74\n",
      "Iztacalco               66\n",
      "Venustiano Carranza     62\n",
      "Name: count, dtype: int64\n"
     ]
    }
   ],
   "source": [
    "# Test the wrangle function with Mexico City data\n",
    "df = wrangle('data/mexico/mexico-city-real-estate-1.csv')\n",
    "\n",
    "print(\"Shape of processed data:\", df.shape)\n",
    "print(\"\\nColumns in processed data:\")\n",
    "print(df.columns.tolist())\n",
    "print(\"\\nFirst few rows:\")\n",
    "print(df.head())\n",
    "print(\"\\nData types:\")\n",
    "print(df.dtypes)\n",
    "print(\"\\nNull values per column:\")\n",
    "print(df.isnull().sum())\n",
    "print(\"\\nUnique values in borough column:\")\n",
    "print(df['borough'].value_counts().head(10))\n"
   ]
  },
  {
   "cell_type": "code",
   "execution_count": 10,
   "id": "d5cf0bb1",
   "metadata": {},
   "outputs": [
    {
     "data": {
      "text/plain": [
       "Unnamed: 0               0.000000\n",
       "price_aprox_usd          0.000000\n",
       "surface_covered_in_m2    0.000000\n",
       "lat                      0.055654\n",
       "lon                      0.055654\n",
       "borough                  0.000000\n",
       "dtype: float64"
      ]
     },
     "execution_count": 10,
     "metadata": {},
     "output_type": "execute_result"
    }
   ],
   "source": [
    "frame1 = wrangle(\"data/mexico/mexico-city-real-estate-1.csv\")\n",
    "frame1.isnull().sum() / len(frame1)"
   ]
  },
  {
   "cell_type": "code",
   "execution_count": 12,
   "id": "11ac7b79",
   "metadata": {},
   "outputs": [
    {
     "data": {
      "text/html": [
       "<div>\n",
       "<style scoped>\n",
       "    .dataframe tbody tr th:only-of-type {\n",
       "        vertical-align: middle;\n",
       "    }\n",
       "\n",
       "    .dataframe tbody tr th {\n",
       "        vertical-align: top;\n",
       "    }\n",
       "\n",
       "    .dataframe thead th {\n",
       "        text-align: right;\n",
       "    }\n",
       "</style>\n",
       "<table border=\"1\" class=\"dataframe\">\n",
       "  <thead>\n",
       "    <tr style=\"text-align: right;\">\n",
       "      <th></th>\n",
       "      <th>borough</th>\n",
       "    </tr>\n",
       "  </thead>\n",
       "  <tbody>\n",
       "    <tr>\n",
       "      <th>0</th>\n",
       "      <td>Benito Juárez</td>\n",
       "    </tr>\n",
       "    <tr>\n",
       "      <th>1</th>\n",
       "      <td>Iztacalco</td>\n",
       "    </tr>\n",
       "    <tr>\n",
       "      <th>2</th>\n",
       "      <td>Benito Juárez</td>\n",
       "    </tr>\n",
       "    <tr>\n",
       "      <th>3</th>\n",
       "      <td>Azcapotzalco</td>\n",
       "    </tr>\n",
       "    <tr>\n",
       "      <th>4</th>\n",
       "      <td>Coyoacán</td>\n",
       "    </tr>\n",
       "  </tbody>\n",
       "</table>\n",
       "</div>"
      ],
      "text/plain": [
       "         borough\n",
       "0  Benito Juárez\n",
       "1      Iztacalco\n",
       "2  Benito Juárez\n",
       "3   Azcapotzalco\n",
       "4       Coyoacán"
      ]
     },
     "execution_count": 12,
     "metadata": {},
     "output_type": "execute_result"
    }
   ],
   "source": [
    "df.select_dtypes(\"object\").head()\n"
   ]
  },
  {
   "cell_type": "code",
   "execution_count": 13,
   "id": "cccd9fba",
   "metadata": {},
   "outputs": [
    {
     "data": {
      "text/plain": [
       "borough    20\n",
       "dtype: int64"
      ]
     },
     "execution_count": 13,
     "metadata": {},
     "output_type": "execute_result"
    }
   ],
   "source": [
    "df.select_dtypes(\"object\").nunique()"
   ]
  },
  {
   "cell_type": "code",
   "execution_count": 20,
   "id": "c0582efa",
   "metadata": {},
   "outputs": [
    {
     "data": {
      "text/plain": [
       "(1101, 6)"
      ]
     },
     "execution_count": 20,
     "metadata": {},
     "output_type": "execute_result"
    }
   ],
   "source": [
    "# Use this cell to test your wrangle function on the file `mexico-city-real-estate-1.csv`\n",
    "frame1 = wrangle(\"data/mexico/mexico-city-real-estate-1.csv\")\n",
    "\n",
    "frame1=frame1.drop(range(1101,1132), axis=\"index\")\n",
    "\n",
    "frame1.shape"
   ]
  },
  {
   "cell_type": "code",
   "execution_count": null,
   "id": "7c5e8fd0",
   "metadata": {},
   "outputs": [],
   "source": []
  }
 ],
 "metadata": {
  "kernelspec": {
   "display_name": "base",
   "language": "python",
   "name": "python3"
  },
  "language_info": {
   "codemirror_mode": {
    "name": "ipython",
    "version": 3
   },
   "file_extension": ".py",
   "mimetype": "text/x-python",
   "name": "python",
   "nbconvert_exporter": "python",
   "pygments_lexer": "ipython3",
   "version": "3.12.7"
  }
 },
 "nbformat": 4,
 "nbformat_minor": 5
}
