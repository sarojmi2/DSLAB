{
 "cells": [
  {
   "cell_type": "markdown",
   "id": "7a22038d",
   "metadata": {},
   "source": [
    "## Predicting Price with Size, Location, and Neighborhood"
   ]
  },
  {
   "cell_type": "code",
   "execution_count": 84,
   "id": "7c79bf66",
   "metadata": {},
   "outputs": [],
   "source": [
    "import warnings\n",
    "from glob import glob\n",
    "\n",
    "import pandas as pd\n",
    "import seaborn as sns\n",
    "from category_encoders import OneHotEncoder\n",
    "from IPython.display import VimeoVideo\n",
    "from ipywidgets import Dropdown, FloatSlider, IntSlider, interact\n",
    "from sklearn.impute import SimpleImputer\n",
    "from sklearn.linear_model import LinearRegression, Ridge  # noqa F401\n",
    "from sklearn.metrics import mean_absolute_error\n",
    "from sklearn.pipeline import make_pipeline\n",
    "from sklearn.utils.validation import check_is_fitted\n",
    "\n",
    "warnings.simplefilter(action=\"ignore\", category=FutureWarning)"
   ]
  },
  {
   "cell_type": "code",
   "execution_count": 98,
   "id": "7c786570",
   "metadata": {},
   "outputs": [],
   "source": [
    "def wrangle(filepath):\n",
    "    # Read CSV file\n",
    "    df = pd.read_csv(filepath)\n",
    "\n",
    "    # Subset data: Apartments in \"Capital Federal\", less than 400,000\n",
    "    mask_ba = df[\"place_with_parent_names\"].str.contains(\"Capital Federal\")\n",
    "    mask_apt = df[\"property_type\"] == \"apartment\"\n",
    "    mask_price = df[\"price_aprox_usd\"] < 400_000\n",
    "    df = df[mask_ba & mask_apt & mask_price]\n",
    "\n",
    "    # Subset data: Remove outliers for \"surface_covered_in_m2\"\n",
    "    low, high = df[\"surface_covered_in_m2\"].quantile([0.1, 0.9])\n",
    "    mask_area = df[\"surface_covered_in_m2\"].between(low, high)\n",
    "    df = df[mask_area]\n",
    "\n",
    "    # Split \"lat-lon\" column\n",
    "    df[[\"lat\", \"lon\"]] = df[\"lat-lon\"].str.split(\",\", expand=True).astype(float)\n",
    "    df.drop(columns=\"lat-lon\", inplace=True)\n",
    "\n",
    "    # Get place name\n",
    "    df[\"neighborhood\"] = df[\"place_with_parent_names\"].str.split(\"|\", expand=True)[3]\n",
    "    df.drop(columns=\"place_with_parent_names\", inplace=True)\n",
    "    \n",
    "    # drop featues with high null counts\n",
    "    df.drop(columns=[\"floor\",\"expenses\"], inplace=True)\n",
    "    \n",
    "    #drop low high cardinility\n",
    "    df.drop(columns=[\"operation\",\"property_type\", \"currency\",\"properati_url\"], inplace=True)\n",
    "\n",
    "    # drop leckage\n",
    "    df.drop(columns=['price', 'price_aprox_local_currency',  'price_per_m2', 'price_usd_per_m2'], inplace=True)\n",
    "    \n",
    "    # drop col with multi lineraity\n",
    "    df.drop(columns=[\"rooms\",\"surface_total_in_m2\"], inplace=True)\n",
    "    return df"
   ]
  },
  {
   "cell_type": "code",
   "execution_count": 86,
   "id": "86921749",
   "metadata": {},
   "outputs": [
    {
     "data": {
      "text/plain": [
       "['data/buenos-aires-real-estate-3.csv',\n",
       " 'data/buenos-aires-real-estate-2.csv',\n",
       " 'data/buenos-aires-real-estate-1.csv',\n",
       " 'data/buenos-aires-real-estate-5.csv',\n",
       " 'data/buenos-aires-real-estate-4.csv']"
      ]
     },
     "execution_count": 86,
     "metadata": {},
     "output_type": "execute_result"
    }
   ],
   "source": [
    "files = glob(\"data/buenos-aires-real-estate-*.csv\") \n",
    "files\n"
   ]
  },
  {
   "cell_type": "code",
   "execution_count": 87,
   "id": "420e8a6b",
   "metadata": {},
   "outputs": [
    {
     "data": {
      "text/html": [
       "<div>\n",
       "<style scoped>\n",
       "    .dataframe tbody tr th:only-of-type {\n",
       "        vertical-align: middle;\n",
       "    }\n",
       "\n",
       "    .dataframe tbody tr th {\n",
       "        vertical-align: top;\n",
       "    }\n",
       "\n",
       "    .dataframe thead th {\n",
       "        text-align: right;\n",
       "    }\n",
       "</style>\n",
       "<table border=\"1\" class=\"dataframe\">\n",
       "  <thead>\n",
       "    <tr style=\"text-align: right;\">\n",
       "      <th></th>\n",
       "      <th>price_aprox_usd</th>\n",
       "      <th>surface_covered_in_m2</th>\n",
       "      <th>lat</th>\n",
       "      <th>lon</th>\n",
       "      <th>neighborhood</th>\n",
       "    </tr>\n",
       "  </thead>\n",
       "  <tbody>\n",
       "    <tr>\n",
       "      <th>0</th>\n",
       "      <td>120000.0</td>\n",
       "      <td>55.0</td>\n",
       "      <td>-34.616004</td>\n",
       "      <td>-58.470506</td>\n",
       "      <td>Villa General Mitre</td>\n",
       "    </tr>\n",
       "    <tr>\n",
       "      <th>1</th>\n",
       "      <td>89000.0</td>\n",
       "      <td>37.0</td>\n",
       "      <td>-34.584712</td>\n",
       "      <td>-58.444927</td>\n",
       "      <td>Palermo</td>\n",
       "    </tr>\n",
       "    <tr>\n",
       "      <th>2</th>\n",
       "      <td>183495.0</td>\n",
       "      <td>57.0</td>\n",
       "      <td>-34.554652</td>\n",
       "      <td>-58.493644</td>\n",
       "      <td>Saavedra</td>\n",
       "    </tr>\n",
       "    <tr>\n",
       "      <th>3</th>\n",
       "      <td>95000.0</td>\n",
       "      <td>47.0</td>\n",
       "      <td>-34.610581</td>\n",
       "      <td>-58.479625</td>\n",
       "      <td>Villa del Parque</td>\n",
       "    </tr>\n",
       "    <tr>\n",
       "      <th>4</th>\n",
       "      <td>95000.0</td>\n",
       "      <td>35.0</td>\n",
       "      <td>-34.558227</td>\n",
       "      <td>-58.458357</td>\n",
       "      <td>Belgrano</td>\n",
       "    </tr>\n",
       "  </tbody>\n",
       "</table>\n",
       "</div>"
      ],
      "text/plain": [
       "   price_aprox_usd  surface_covered_in_m2        lat        lon  \\\n",
       "0         120000.0                   55.0 -34.616004 -58.470506   \n",
       "1          89000.0                   37.0 -34.584712 -58.444927   \n",
       "2         183495.0                   57.0 -34.554652 -58.493644   \n",
       "3          95000.0                   47.0 -34.610581 -58.479625   \n",
       "4          95000.0                   35.0 -34.558227 -58.458357   \n",
       "\n",
       "          neighborhood  \n",
       "0  Villa General Mitre  \n",
       "1              Palermo  \n",
       "2             Saavedra  \n",
       "3     Villa del Parque  \n",
       "4             Belgrano  "
      ]
     },
     "execution_count": 87,
     "metadata": {},
     "output_type": "execute_result"
    }
   ],
   "source": [
    "frames = [wrangle(file) for file in files]\n",
    "df = pd.concat(frames, ignore_index=True)   \n",
    "df.head()"
   ]
  },
  {
   "cell_type": "markdown",
   "id": "991d8610",
   "metadata": {},
   "source": [
    "# Explore missing values , cardinility "
   ]
  },
  {
   "cell_type": "code",
   "execution_count": 88,
   "id": "4bcdc86f",
   "metadata": {},
   "outputs": [
    {
     "data": {
      "text/plain": [
       "price_aprox_usd            0\n",
       "surface_covered_in_m2      0\n",
       "lat                      266\n",
       "lon                      266\n",
       "neighborhood               0\n",
       "dtype: int64"
      ]
     },
     "execution_count": 88,
     "metadata": {},
     "output_type": "execute_result"
    }
   ],
   "source": [
    "df.isnull().sum()"
   ]
  },
  {
   "cell_type": "code",
   "execution_count": 89,
   "id": "c72ab50c",
   "metadata": {},
   "outputs": [
    {
     "data": {
      "text/html": [
       "<div>\n",
       "<style scoped>\n",
       "    .dataframe tbody tr th:only-of-type {\n",
       "        vertical-align: middle;\n",
       "    }\n",
       "\n",
       "    .dataframe tbody tr th {\n",
       "        vertical-align: top;\n",
       "    }\n",
       "\n",
       "    .dataframe thead th {\n",
       "        text-align: right;\n",
       "    }\n",
       "</style>\n",
       "<table border=\"1\" class=\"dataframe\">\n",
       "  <thead>\n",
       "    <tr style=\"text-align: right;\">\n",
       "      <th></th>\n",
       "      <th>neighborhood</th>\n",
       "    </tr>\n",
       "  </thead>\n",
       "  <tbody>\n",
       "    <tr>\n",
       "      <th>0</th>\n",
       "      <td>Villa General Mitre</td>\n",
       "    </tr>\n",
       "    <tr>\n",
       "      <th>1</th>\n",
       "      <td>Palermo</td>\n",
       "    </tr>\n",
       "    <tr>\n",
       "      <th>2</th>\n",
       "      <td>Saavedra</td>\n",
       "    </tr>\n",
       "    <tr>\n",
       "      <th>3</th>\n",
       "      <td>Villa del Parque</td>\n",
       "    </tr>\n",
       "    <tr>\n",
       "      <th>4</th>\n",
       "      <td>Belgrano</td>\n",
       "    </tr>\n",
       "  </tbody>\n",
       "</table>\n",
       "</div>"
      ],
      "text/plain": [
       "          neighborhood\n",
       "0  Villa General Mitre\n",
       "1              Palermo\n",
       "2             Saavedra\n",
       "3     Villa del Parque\n",
       "4             Belgrano"
      ]
     },
     "execution_count": 89,
     "metadata": {},
     "output_type": "execute_result"
    }
   ],
   "source": [
    "df.select_dtypes(include=\"object\").head()"
   ]
  },
  {
   "cell_type": "code",
   "execution_count": 90,
   "id": "bfa1b8eb",
   "metadata": {},
   "outputs": [
    {
     "data": {
      "text/plain": [
       "neighborhood    57\n",
       "dtype: int64"
      ]
     },
     "execution_count": 90,
     "metadata": {},
     "output_type": "execute_result"
    }
   ],
   "source": [
    "df.select_dtypes(include=\"object\").nunique()"
   ]
  },
  {
   "cell_type": "code",
   "execution_count": 91,
   "id": "dc2ad5e6",
   "metadata": {},
   "outputs": [
    {
     "data": {
      "text/plain": [
       "['lat', 'lon', 'neighborhood', 'price_aprox_usd', 'surface_covered_in_m2']"
      ]
     },
     "execution_count": 91,
     "metadata": {},
     "output_type": "execute_result"
    }
   ],
   "source": [
    "sorted(df.columns)\n"
   ]
  },
  {
   "cell_type": "code",
   "execution_count": 92,
   "id": "3e378f3e",
   "metadata": {},
   "outputs": [
    {
     "data": {
      "text/plain": [
       "<Axes: >"
      ]
     },
     "execution_count": 92,
     "metadata": {},
     "output_type": "execute_result"
    },
    {
     "data": {
      "image/png": "[encoded data removed]",
      "text/plain": [
       "<Figure size 640x480 with 2 Axes>"
      ]
     },
     "metadata": {},
     "output_type": "display_data"
    }
   ],
   "source": [
    "corr = df.select_dtypes(include=['number']).corr()\n",
    "sns.heatmap(corr, cmap=\"Blues\", annot=True)\n"
   ]
  },
  {
   "cell_type": "code",
   "execution_count": 55,
   "id": "e6b05fa0",
   "metadata": {},
   "outputs": [
    {
     "name": "stdout",
     "output_type": "stream",
     "text": [
      "<class 'pandas.core.frame.DataFrame'>\n",
      "RangeIndex: 6582 entries, 0 to 6581\n",
      "Data columns (total 6 columns):\n",
      " #   Column                 Non-Null Count  Dtype  \n",
      "---  ------                 --------------  -----  \n",
      " 0   surface_total_in_m2    4752 non-null   float64\n",
      " 1   surface_covered_in_m2  6582 non-null   float64\n",
      " 2   rooms                  5286 non-null   float64\n",
      " 3   lat                    6316 non-null   float64\n",
      " 4   lon                    6316 non-null   float64\n",
      " 5   neighborhood           6582 non-null   object \n",
      "dtypes: float64(5), object(1)\n",
      "memory usage: 308.7+ KB\n"
     ]
    }
   ],
   "source": [
    "df.info()"
   ]
  },
  {
   "cell_type": "code",
   "execution_count": 94,
   "id": "9eb1edd6",
   "metadata": {},
   "outputs": [
    {
     "name": "stdout",
     "output_type": "stream",
     "text": [
      "Mean apt price  132383.83701458524\n",
      "Baseline price  44860.10834274133\n"
     ]
    }
   ],
   "source": [
    "target = \"price_aprox_usd\"\n",
    "features = [\"surface_covered_in_m2\"]\n",
    "\n",
    "X_train = df[features]\n",
    "y_train = df[target]\n",
    "\n",
    "y_mean = y_train.mean()\n",
    "y_pred_baseline = [y_mean] * len(df)\n",
    "print(\"Mean apt price \" ,y_mean)\n",
    "print(\"Baseline price \" ,mean_absolute_error(y_train, y_pred_baseline))"
   ]
  },
  {
   "cell_type": "code",
   "execution_count": 96,
   "id": "81e6c363",
   "metadata": {},
   "outputs": [
    {
     "name": "stdout",
     "output_type": "stream",
     "text": [
      "Warning: No categorical columns found. Calling 'transform' will only return input data.\n",
      "Mean apt price  132383.83701458524\n",
      "Baseline price  44860.10834274133\n"
     ]
    }
   ],
   "source": [
    "model = make_pipeline(\n",
    "    OneHotEncoder(use_cat_names=True),\n",
    "    LinearRegression()\n",
    ")\n",
    "model.fit(X_train, y_train)\n",
    "\n",
    "y_pred = model.predict(X_train)\n",
    "\n",
    "print(\"Mean apt price \" ,y_mean)\n",
    "print(\"Baseline price \" ,mean_absolute_error(y_train, y_pred_baseline))"
   ]
  },
  {
   "cell_type": "code",
   "execution_count": 97,
   "id": "2f79b586",
   "metadata": {},
   "outputs": [
    {
     "name": "stdout",
     "output_type": "stream",
     "text": [
      "Mean apt price  132383.83701458524\n",
      "Baseline price  44860.10834274133\n",
      "Training MAE  30503.36225845516\n"
     ]
    }
   ],
   "source": [
    "y_pred_training = model.predict(X_train)\n",
    "mae_training = mean_absolute_error(y_train, y_pred_training)\n",
    "print(\"Mean apt price \" ,y_mean)\n",
    "print(\"Baseline price \" ,mean_absolute_error(y_train, y_pred_baseline))\n",
    "print(\"Training MAE \" ,mae_training)\n",
    "\n"
   ]
  },
  {
   "cell_type": "code",
   "execution_count": null,
   "id": "efcdf5d0",
   "metadata": {},
   "outputs": [],
   "source": []
  }
 ],
 "metadata": {
  "kernelspec": {
   "display_name": "base",
   "language": "python",
   "name": "python3"
  },
  "language_info": {
   "codemirror_mode": {
    "name": "ipython",
    "version": 3
   },
   "file_extension": ".py",
   "mimetype": "text/x-python",
   "name": "python",
   "nbconvert_exporter": "python",
   "pygments_lexer": "ipython3",
   "version": "3.12.7"
  }
 },
 "nbformat": 4,
 "nbformat_minor": 5
}
